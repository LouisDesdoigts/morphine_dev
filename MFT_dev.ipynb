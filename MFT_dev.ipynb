{
 "cells": [
  {
   "cell_type": "code",
   "execution_count": 1,
   "id": "56eaf894-ec4c-42f9-935a-0bc1c1816ee3",
   "metadata": {},
   "outputs": [
    {
     "name": "stderr",
     "output_type": "stream",
     "text": [
      "/Users/louis/mambaforge/envs/morph/lib/python3.8/site-packages/jax/_src/lib/__init__.py:33: UserWarning: JAX on Mac ARM machines is experimental and minimally tested. Please see https://github.com/google/jax/issues/5501 in the event of problems.\n",
      "  warnings.warn(\"JAX on Mac ARM machines is experimental and minimally tested. \"\n"
     ]
    }
   ],
   "source": [
    "import jax\n",
    "from jax.config import config\n",
    "config.update(\"jax_enable_x64\", True)"
   ]
  },
  {
   "cell_type": "code",
   "execution_count": 2,
   "id": "7abf774d-6c65-42b9-b347-dd6314e8ecb4",
   "metadata": {},
   "outputs": [],
   "source": [
    "import jax.numpy as np\n",
    "from jax import jit, value_and_grad, vmap\n",
    "import numpy as onp\n",
    "import matplotlib.pyplot as plt"
   ]
  },
  {
   "cell_type": "code",
   "execution_count": 3,
   "id": "c0b38557-4b7c-4b2d-b7f7-da61e6025900",
   "metadata": {},
   "outputs": [],
   "source": [
    "def prop_p2p_prim(wavefront, nlamDX, nlamDY, offsetX, offsetY, sign, npupX, npupY, npixX, npixY):\n",
    "    \"\"\"\n",
    "    Base level function that performs the MFT from one plane to another\n",
    "    \n",
    "    Params (non-static)\n",
    "        Wavefront (complex ndarray): Input wavefront to the MFT  \n",
    "        nlamDX (float): Number of fringes in X, determined by wavelength and sampling rates\n",
    "        nlamDY (float): Number of fringes in Y, determined by wavelength and sampling rates\n",
    "        offsetX (float): Offset of the zeroth frequency\n",
    "        offestY (float): Offset of the zeroth frequency\n",
    "        sign (+1 or -1): Determines if it is a pupil -> focal (+1) or focal -> pupil plane (-1)\n",
    "    Params (static)\n",
    "        npupX (int): Number of pixels in the X direction in the initial plane\n",
    "        npupY (int): Number of pixels in the Y direction in the initial plane\n",
    "        npixX (int): Number of pixels in the X direction in the final plane\n",
    "        npixY (int): Number of pixels in the Y direction in the final plane\n",
    "    These static parameters form a hash key for the jitted version of this fucntion\n",
    "    \n",
    "    Returns:\n",
    "        final_wavefront\n",
    "    \"\"\"\n",
    "    \n",
    "    dU = nlamDX / float(npixX)\n",
    "    dV = nlamDY / float(npixY)\n",
    "    dX = 1.0 / float(npupX)\n",
    "    dY = 1.0 / float(npupY)\n",
    "\n",
    "    Xs = (np.arange(npupX, dtype=float) - float(npupX) / 2.0 - offsetX + 0.5) * dX\n",
    "    Ys = (np.arange(npupY, dtype=float) - float(npupY) / 2.0 - offsetY + 0.5) * dY\n",
    "    Us = (np.arange(npixX, dtype=float) - float(npixX) / 2.0 - offsetX + 0.5) * dU\n",
    "    Vs = (np.arange(npixY, dtype=float) - float(npixY) / 2.0 - offsetY + 0.5) * dV\n",
    "    \n",
    "    XU = np.outer(Xs, Us)\n",
    "    YV = np.outer(Ys, Vs)\n",
    "    \n",
    "    expXU = np.exp(-2.0 * np.pi * sign * 1j * XU)\n",
    "    expYV = np.exp(-2.0 * np.pi * sign * 1j * YV).T\n",
    "\n",
    "    # Note: Can casue overflow issues on 32-bit\n",
    "    norm_coeff = np.sqrt((nlamDY * nlamDX) / (npupY * npupX * npixY * npixX)) \n",
    "\n",
    "    # Perform MFT\n",
    "    t1 = np.dot(expYV, wavefront)\n",
    "    t2 = np.dot(t1, expXU)\n",
    "    final_wavefront = norm_coeff * t2\n",
    "    \n",
    "    return final_wavefront\n",
    "\n",
    "prop_p2p_vmap = vmap(prop_p2p_prim, in_axes=(None, 0, 0, None, None, None, None, None, None, None))\n",
    "prop_p2p_jit = jit(prop_p2p_vmap, static_argnums=(6,7,8,9))"
   ]
  },
  {
   "cell_type": "markdown",
   "id": "3a311ffb-c12d-4349-816c-b03e010ec954",
   "metadata": {},
   "source": [
    "---"
   ]
  },
  {
   "cell_type": "markdown",
   "id": "34e672da-ac28-4222-a63a-7cd5a1e3728a",
   "metadata": {},
   "source": [
    "## Construct Optical System"
   ]
  },
  {
   "cell_type": "code",
   "execution_count": 4,
   "id": "de9f040f-1615-4286-b147-022ecd283671",
   "metadata": {},
   "outputs": [],
   "source": [
    "import poppy\n",
    "import astropy.units as u"
   ]
  },
  {
   "cell_type": "code",
   "execution_count": 5,
   "id": "accdb990-c28e-49be-8a65-f5b5ce451c96",
   "metadata": {},
   "outputs": [
    {
     "data": {
      "text/plain": [
       "<poppy.poppy_core.Detector at 0x14f3de160>"
      ]
     },
     "execution_count": 5,
     "metadata": {},
     "output_type": "execute_result"
    }
   ],
   "source": [
    "osys = poppy.OpticalSystem()\n",
    "osys.add_pupil( poppy.CircularAperture(radius=3))    # pupil radius in meters\n",
    "osys.add_detector(pixelscale=0.010, fov_arcsec=5.0)  # image plane coordinates in arcseconds"
   ]
  },
  {
   "cell_type": "code",
   "execution_count": 6,
   "id": "e69d1824-68c8-420d-a09f-0e77a7adf198",
   "metadata": {},
   "outputs": [
    {
     "name": "stdout",
     "output_type": "stream",
     "text": [
      "Created wavefront: wavelength=1e-05 m, diam=6 m\n",
      " using array size (1024, 1024)\n",
      "  Multiplied WF by phasor for Pupil plane: Circle, radius=3.0 m\n",
      "  Propagating wavefront to Detector plane: Detector (500x500 pixels, 0.010 arcsec / pix). \n",
      "    Propagating w/ MFT: 0.0050 arcsec / pix     fov=14.544 lam/D    npix=1000\n",
      "Multiplied WF by scalar value 1.0\n",
      "\n",
      "\n"
     ]
    }
   ],
   "source": [
    "# Testing shows that the calc_psf is agnostic to wavelength, therefore we can glean all relevant information from a single dummy wavelength\n",
    "# dummy_wavels = [1e-2, 1e-3, 1e-4, 1e-5, 1e-6, 1e-7, 1e-8, 1e-9]\n",
    "\n",
    "# Show how the wavefront has been modified\n",
    "# The history property shows how everything we want is calcuatled\n",
    "dummy_wavels = [1e-5]\n",
    "for wavel in dummy_wavels:\n",
    "    fits_out, intermediate_wfs = osys.calc_psf(wavel, return_intermediates=True)\n",
    "    wf_obj = intermediate_wfs[-1]\n",
    "    hist = wf_obj.history\n",
    "    for j in range(len(hist)):\n",
    "        print(hist[j])\n",
    "    print('\\n')"
   ]
  },
  {
   "cell_type": "markdown",
   "id": "f0c0d695-8cce-4392-8abe-7ece9b0f63a8",
   "metadata": {},
   "source": [
    "### These are all the relevant/populated properties we would care about\n",
    "> wf_obj.wavefront\n",
    "\n",
    "> wf_obj.wavelength\n",
    "\n",
    "> wf_obj.shape\n",
    "\n",
    "> wf_obj.total_intensity\n",
    "\n",
    "> wf_obj.planetype\n",
    "\n",
    "> wf_obj.pixelscale\n",
    "\n",
    "> wf_obj.oversample\n",
    "\n",
    "> wf_obj.intensity\n",
    "\n",
    "> wf_obj.history\n",
    "\n",
    "> wf_obj.diam"
   ]
  },
  {
   "cell_type": "code",
   "execution_count": 7,
   "id": "67d283a7-0d41-466e-9852-0cded38d0265",
   "metadata": {},
   "outputs": [],
   "source": [
    "def get_sampling_properties(intermediate_wavefronts):\n",
    "    \"\"\"\n",
    "    Takes in the poppy intermediate wavefront list and extracts the information we need\n",
    "    Note we dont calcuate nlamD here becuase this depends on wavelength\n",
    "    \n",
    "    Not all the returned information is usefull but this provides a more robust\n",
    "    way to get all the information \n",
    "    \"\"\"\n",
    "    shapes = []\n",
    "    diams = []\n",
    "    pixelscales = []\n",
    "    fovs = []\n",
    "    planetypes = []\n",
    "    for wf_obj in intermediate_wavefronts:\n",
    "        shape = wf_obj.shape\n",
    "        diam = wf_obj.diam.to(u.m).value\n",
    "        planetype = wf_obj.planetype # Conver this value into an integer later for more complex systems\n",
    "        if wf_obj.planetype is poppy.poppy_core.PlaneType.pupil:\n",
    "            pixelscale = wf_obj.pixelscale.to(u.m/u.pix).value\n",
    "        else:\n",
    "            pixelscale = wf_obj.pixelscale.to(u.radian/u.pix).value\n",
    "        fov = [shape[0]*pixelscale, shape[1]*pixelscale]\n",
    "        shapes.append(shape)\n",
    "        diams.append(diam)\n",
    "        pixelscales.append(pixelscale)\n",
    "        fovs.append(fov)\n",
    "        planetypes.append(planetype)\n",
    "    return shapes, diams, pixelscales, fovs, planetypes"
   ]
  },
  {
   "cell_type": "code",
   "execution_count": 8,
   "id": "b9b37b00-6170-4a99-b72f-7a5755d9a824",
   "metadata": {},
   "outputs": [
    {
     "name": "stderr",
     "output_type": "stream",
     "text": [
      "WARNING:absl:No GPU/TPU found, falling back to CPU. (Set TF_CPP_MIN_LOG_LEVEL=0 and rerun for more info.)\n"
     ]
    },
    {
     "name": "stdout",
     "output_type": "stream",
     "text": [
      "[[1024 1024]\n",
      " [1000 1000]]\n",
      "[6. 6.]\n",
      "[5.85937500e-03 2.42406841e-08]\n",
      "[[6.00000000e+00 6.00000000e+00]\n",
      " [2.42406841e-05 2.42406841e-05]]\n"
     ]
    }
   ],
   "source": [
    "shapes, diams, pixelscales, fovs, planetypes = get_sampling_properties(intermediate_wfs)\n",
    "\n",
    "shapes = np.array(shapes)\n",
    "diams = np.array(diams)\n",
    "pixelscales = np.array(pixelscales)\n",
    "fovs = np.array(fovs)\n",
    "# planetypes = np.array(planetypes)\n",
    "\n",
    "print(shapes)\n",
    "print(diams)\n",
    "print(pixelscales)\n",
    "print(fovs)"
   ]
  },
  {
   "cell_type": "markdown",
   "id": "5b48905d-bdec-47b4-a7be-49efc9f9c0c0",
   "metadata": {},
   "source": [
    "---\n",
    "\n",
    "## Now we use this information to construct psfs of arbirary spectra"
   ]
  },
  {
   "cell_type": "code",
   "execution_count": 9,
   "id": "8458d4b0-56a4-46b2-ba5e-864638f33abf",
   "metadata": {},
   "outputs": [],
   "source": [
    "min_wavel = 1e-5\n",
    "max_wavel = 2e-5\n",
    "nwavels = 25\n",
    "\n",
    "wavels = np.linspace(min_wavel, max_wavel, nwavels)"
   ]
  },
  {
   "cell_type": "code",
   "execution_count": 10,
   "id": "5fd672c3-587a-4bec-b30b-0b491d1ce738",
   "metadata": {},
   "outputs": [],
   "source": [
    "nplanes = len(shapes)\n",
    "\n",
    "for i in range(nplanes - 1):\n",
    "    npup = shapes[i]\n",
    "    npix = shapes[i+1]\n",
    "    nlamD = fovs[i+1] * diams[i]\n",
    "    \n",
    "nlamDXs = nlamD[0]/wavels\n",
    "nlamDYs = nlamD[0]/wavels\n",
    "NlamDs = np.array([nlamDXs, nlamDYs])\n",
    "\n",
    "offsets = np.array([0., 0.])\n",
    "sign = +1."
   ]
  },
  {
   "cell_type": "code",
   "execution_count": 11,
   "id": "b70bef2a-029a-4455-92c1-1ff75239a6df",
   "metadata": {},
   "outputs": [],
   "source": [
    "def normalise_wf(wavefront):\n",
    "    norm_factor = np.sqrt(np.sum(np.abs(wavefront)**2))\n",
    "    norm_wavefront = wavefront/norm_factor\n",
    "    return norm_wavefront"
   ]
  },
  {
   "cell_type": "code",
   "execution_count": 12,
   "id": "9c289f51-b027-45c0-ae90-579ed001ddcf",
   "metadata": {},
   "outputs": [],
   "source": [
    "initial_wf = intermediate_wfs[0].wavefront\n",
    "norm_wf = normalise_wf(initial_wf)"
   ]
  },
  {
   "cell_type": "code",
   "execution_count": 13,
   "id": "43ea9a83-45fb-4b1d-9ea1-3ca18f408547",
   "metadata": {},
   "outputs": [],
   "source": [
    "# Compile in a lazy way\n",
    "wfs = prop_p2p_jit(initial_wf, \n",
    "                   NlamDs[0][0:2], \n",
    "                   NlamDs[1][0:2], \n",
    "                   offsets[0], \n",
    "                   offsets[1], \n",
    "                   sign, \n",
    "                   float(npup[0]), \n",
    "                   float(npup[1]), \n",
    "                   float(npix[0]), \n",
    "                   float(npix[1]))"
   ]
  },
  {
   "cell_type": "code",
   "execution_count": 14,
   "id": "d5d7cae9-400b-439e-a578-f4135a888fba",
   "metadata": {},
   "outputs": [
    {
     "name": "stdout",
     "output_type": "stream",
     "text": [
      "CPU times: user 20.8 s, sys: 334 ms, total: 21.2 s\n",
      "Wall time: 2.47 s\n"
     ]
    }
   ],
   "source": [
    "%%time\n",
    "wfs = prop_p2p_jit(norm_wf, \n",
    "                   NlamDs[0], \n",
    "                   NlamDs[1], \n",
    "                   offsets[0], \n",
    "                   offsets[1], \n",
    "                   sign, \n",
    "                   float(npup[0]), \n",
    "                   float(npup[1]), \n",
    "                   float(npix[0]), \n",
    "                   float(npix[1]))"
   ]
  },
  {
   "cell_type": "code",
   "execution_count": 15,
   "id": "21902f1d-db06-4343-b17f-f6c5cff5d89c",
   "metadata": {},
   "outputs": [],
   "source": [
    "psfs = np.abs(wfs)**2\n",
    "psf_final = np.sum(psfs, axis=0)/nwavels"
   ]
  },
  {
   "cell_type": "code",
   "execution_count": 16,
   "id": "6f8d34db-e678-4569-b816-f4e57e67a3cf",
   "metadata": {},
   "outputs": [
    {
     "name": "stdout",
     "output_type": "stream",
     "text": [
      "CPU times: user 39.2 s, sys: 3.86 s, total: 43.1 s\n",
      "Wall time: 5.59 s\n"
     ]
    }
   ],
   "source": [
    "%%time\n",
    "poppy_psf = osys.calc_psf(wavels)[0].data"
   ]
  },
  {
   "cell_type": "code",
   "execution_count": 17,
   "id": "2983dc28-2158-43e7-a972-b3c4fc5d3b79",
   "metadata": {},
   "outputs": [
    {
     "data": {
      "image/png": "[encoded data removed]",
      "text/plain": [
       "<Figure size 1440x288 with 8 Axes>"
      ]
     },
     "metadata": {
      "needs_background": "light"
     },
     "output_type": "display_data"
    }
   ],
   "source": [
    "plt.figure(figsize=(20, 4))\n",
    "\n",
    "plt.subplot(1, 4, 1)\n",
    "plt.imshow(psf_final**0.5)\n",
    "plt.title(\"Morphine PSF\")\n",
    "plt.colorbar()\n",
    "\n",
    "plt.subplot(1, 4, 2)\n",
    "plt.imshow(poppy_psf**0.5)\n",
    "plt.title(\"Poppy PSF\")\n",
    "plt.colorbar()\n",
    "\n",
    "plt.subplot(1, 4, 3)\n",
    "plt.imshow(poppy_psf - psf_final)\n",
    "plt.title(\"Residual\")\n",
    "plt.colorbar()\n",
    "\n",
    "plt.subplot(1, 4, 4)\n",
    "plt.imshow(poppy_psf/psf_final)\n",
    "plt.title(\"Ratio\")\n",
    "plt.colorbar()\n",
    "plt.show()"
   ]
  },
  {
   "cell_type": "code",
   "execution_count": 18,
   "id": "658b816a-4530-4ba1-99e8-fca18eac4d35",
   "metadata": {},
   "outputs": [
    {
     "name": "stdout",
     "output_type": "stream",
     "text": [
      "Yee Haaw!\n"
     ]
    }
   ],
   "source": [
    "result = bool(np.allclose(psf_final, poppy_psf))\n",
    "\n",
    "if result is True:\n",
    "    print(\"Yee Haaw!\")\n",
    "else:\n",
    "    print(\"Better luck next time :'(\")\n",
    "    plt.imshow(np.isclose(psf_final, poppy_psf))\n",
    "    plt.colorbar()\n",
    "    plt.show()"
   ]
  },
  {
   "cell_type": "code",
   "execution_count": null,
   "id": "de48e672-bfcc-46c5-a3b1-25c268724931",
   "metadata": {},
   "outputs": [],
   "source": []
  }
 ],
 "metadata": {
  "kernelspec": {
   "display_name": "Python 3 (ipykernel)",
   "language": "python",
   "name": "python3"
  },
  "language_info": {
   "codemirror_mode": {
    "name": "ipython",
    "version": 3
   },
   "file_extension": ".py",
   "mimetype": "text/x-python",
   "name": "python",
   "nbconvert_exporter": "python",
   "pygments_lexer": "ipython3",
   "version": "3.8.13"
  }
 },
 "nbformat": 4,
 "nbformat_minor": 5
}
